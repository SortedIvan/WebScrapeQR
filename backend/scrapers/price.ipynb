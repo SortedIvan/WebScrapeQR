{
 "cells": [
  {
   "cell_type": "code",
   "execution_count": 1,
   "metadata": {},
   "outputs": [],
   "source": [
    "from scraper_jaap import get_all_property_prices\n",
    "from scraper_jaap import strip_all_results\n",
    "import pandas as pd\n",
    "import numpy as np"
   ]
  },
  {
   "cell_type": "code",
   "execution_count": 2,
   "metadata": {},
   "outputs": [],
   "source": [
    "# Bubble sort for sorting the prices\n",
    "def sort_prices_ascending(prices):\n",
    "    sorted = False\n",
    "    n = len(prices)\n",
    "    while (not sorted and n > 1):\n",
    "        sorted = True\n",
    "        for i in range(n - 1):\n",
    "            if (prices[i] > prices[i + 1]):\n",
    "                sorted = False\n",
    "                temp = prices[i + 1]\n",
    "                prices[i+1] = prices[i]\n",
    "                prices[i] = temp\n",
    "        n -= 1 \n",
    "    return prices"
   ]
  },
  {
   "cell_type": "code",
   "execution_count": 4,
   "metadata": {},
   "outputs": [
    {
     "name": "stdout",
     "output_type": "stream",
     "text": [
      "https://www.jaap.nl/huurhuizen/noord+brabant/zuidoost-noord-brabant/eindhoven/+15km/100-3000/p0\n",
      "https://www.jaap.nl/huurhuizen/noord+brabant/zuidoost-noord-brabant/eindhoven/+15km/100-3000/p1\n",
      "https://www.jaap.nl/huurhuizen/noord+brabant/zuidoost-noord-brabant/eindhoven/+15km/100-3000/p2\n",
      "https://www.jaap.nl/huurhuizen/noord+brabant/zuidoost-noord-brabant/eindhoven/+15km/100-3000/p3\n",
      "https://www.jaap.nl/huurhuizen/noord+brabant/zuidoost-noord-brabant/eindhoven/+15km/100-3000/p4\n",
      "https://www.jaap.nl/huurhuizen/noord+brabant/zuidoost-noord-brabant/eindhoven/+15km/100-3000/p5\n",
      "https://www.jaap.nl/huurhuizen/noord+brabant/zuidoost-noord-brabant/eindhoven/+15km/100-3000/p6\n",
      "https://www.jaap.nl/huurhuizen/noord+brabant/zuidoost-noord-brabant/eindhoven/+15km/100-3000/p7\n",
      "https://www.jaap.nl/huurhuizen/noord+brabant/zuidoost-noord-brabant/eindhoven/+15km/100-3000/p8\n",
      "https://www.jaap.nl/huurhuizen/noord+brabant/zuidoost-noord-brabant/eindhoven/+15km/100-3000/p9\n",
      "[2300, 1650, 1500, 1500, 1700, 1400, 1100, 1100, 1950, 2295, 1650, 1595, 1200, 1250, 1300, 1500, 2150, 1795, 1195, 1450, 1050, 2495, 2600, 1250, 1050, 2100, 950, 1950, 595, 1495, 1150, 1700, 1700, 2300, 1650, 1500, 1500, 1700, 1400, 1100, 1100, 1950, 2295, 1650, 1595, 1200, 1250, 1300, 1500, 2150, 1795, 1195, 1450, 1050, 2495, 2600, 1250, 1050, 2100, 950, 1950, 595, 1495, 1150, 1700, 1700, 1255, 1950, 1750, 1750, 2250, 1100, 1400, 1400, 1850, 2250, 2250, 1250, 1750, 850, 1700, 1650, 975, 1499, 2565, 1050, 2250, 1140, 1700, 1475, 1996, 1426, 1391, 2250, 1680, 1050, 1850, 1080, 1080, 1085, 1600, 1600, 1600, 1600, 1600, 1895, 1895, 1995, 2850, 1875, 1850, 1595, 1000, 1595, 2000, 1000, 1300, 1025, 1175, 2000, 1350, 1450, 1700, 1895, 1595, 2295, 1995, 595, 1450, 2500, 1195, 1195, 1195, 1100, 1950, 1950, 1595, 1595, 130, 130, 1950, 1700, 1850, 1010, 130, 507, 355, 1200, 1250, 955, 1200, 1300, 130, 1650, 1200, 1595, 1495, 1600, 600, 271, 1395, 1200, 1225, 975, 975, 1450, 1060, 1750, 1750, 1475, 1095, 1750, 1750, 895, 1070, 2975, 950, 1450, 1195, 980, 1850, 1950, 1450, 1050, 1700, 1050, 735, 1098, 1500, 1500, 1100, 1500, 940, 1750, 1500, 1295, 405, 405, 1195, 2600, 2250, 2250, 1700, 1750, 1100, 1100, 1475, 1750, 1195, 1175, 935, 2250, 1850, 1850, 1595, 1450, 2399, 1700, 1595, 1100, 1225, 1292, 1040, 1060, 825, 2250, 1795, 1850, 2250, 1700, 1700, 975, 1395, 1875, 1875, 915, 1950, 1295, 1295, 970, 1040, 1550, 920, 2675, 2250, 1495, 1250, 1500, 700, 2250, 1700, 1180, 550, 875, 1850, 2350, 1950, 2150, 2850, 1600, 1600, 1600, 1600, 1600, 2250, 1500, 1450, 1450, 1020, 1795, 990, 990, 2195, 1400, 2675, 825, 1695, 1500, 1795, 1395, 1950, 1700, 1265, 1895, 1095, 1500, 2500, 1250, 1495, 1395, 1500, 1095, 1475, 1995, 1895, 1250, 1250, 1175, 950, 1550, 1550, 1850, 1850, 2975, 2975, 2250, 2750, 1550, 1350, 2750, 1750, 1650, 1850, 100, 1600, 1400, 1495, 1550, 1550, 1700, 2950, 1695, 1300, 1650, 1550, 100, 1500, 1950, 1750, 1750]\n"
     ]
    }
   ],
   "source": [
    "# Extracting jaap listing prices\n",
    "prices_jaap = get_all_property_prices(\"eindhoven\", 100, 3000, 15)\n",
    "prices_jaap\n",
    "print(prices_jaap)"
   ]
  },
  {
   "cell_type": "code",
   "execution_count": 24,
   "metadata": {},
   "outputs": [
    {
     "name": "stdout",
     "output_type": "stream",
     "text": [
      "[100, 100, 130, 130, 130, 130, 271, 355, 405, 405, 507, 550, 595, 595, 595, 600, 700, 735, 825, 825, 850, 875, 895, 915, 920, 935, 940, 950, 950, 950, 950, 955, 970, 975, 975, 975, 975, 980, 990, 990, 1000, 1000, 1010, 1020, 1025, 1040, 1040, 1050, 1050, 1050, 1050, 1050, 1050, 1050, 1050, 1060, 1060, 1070, 1080, 1080, 1085, 1095, 1095, 1095, 1098, 1100, 1100, 1100, 1100, 1100, 1100, 1100, 1100, 1100, 1100, 1140, 1150, 1150, 1175, 1175, 1175, 1180, 1195, 1195, 1195, 1195, 1195, 1195, 1195, 1195, 1200, 1200, 1200, 1200, 1200, 1200, 1225, 1225, 1250, 1250, 1250, 1250, 1250, 1250, 1250, 1250, 1250, 1250, 1255, 1265, 1292, 1295, 1295, 1295, 1300, 1300, 1300, 1300, 1300, 1350, 1350, 1391, 1395, 1395, 1395, 1395, 1400, 1400, 1400, 1400, 1400, 1400, 1426, 1450, 1450, 1450, 1450, 1450, 1450, 1450, 1450, 1450, 1450, 1475, 1475, 1475, 1475, 1495, 1495, 1495, 1495, 1495, 1495, 1499, 1500, 1500, 1500, 1500, 1500, 1500, 1500, 1500, 1500, 1500, 1500, 1500, 1500, 1500, 1500, 1500, 1550, 1550, 1550, 1550, 1550, 1550, 1550, 1595, 1595, 1595, 1595, 1595, 1595, 1595, 1595, 1595, 1595, 1600, 1600, 1600, 1600, 1600, 1600, 1600, 1600, 1600, 1600, 1600, 1600, 1650, 1650, 1650, 1650, 1650, 1650, 1650, 1650, 1680, 1695, 1695, 1700, 1700, 1700, 1700, 1700, 1700, 1700, 1700, 1700, 1700, 1700, 1700, 1700, 1700, 1700, 1700, 1700, 1700, 1750, 1750, 1750, 1750, 1750, 1750, 1750, 1750, 1750, 1750, 1750, 1750, 1750, 1795, 1795, 1795, 1795, 1795, 1850, 1850, 1850, 1850, 1850, 1850, 1850, 1850, 1850, 1850, 1850, 1850, 1875, 1875, 1875, 1895, 1895, 1895, 1895, 1895, 1950, 1950, 1950, 1950, 1950, 1950, 1950, 1950, 1950, 1950, 1950, 1950, 1950, 1995, 1995, 1995, 1996, 2000, 2000, 2100, 2100, 2150, 2150, 2150, 2195, 2250, 2250, 2250, 2250, 2250, 2250, 2250, 2250, 2250, 2250, 2250, 2250, 2250, 2250, 2295, 2295, 2295, 2300, 2300, 2350, 2399, 2495, 2495, 2500, 2500, 2565, 2600, 2600, 2600, 2675, 2675, 2750, 2750, 2850, 2850, 2950, 2975, 2975, 2975]\n"
     ]
    },
    {
     "ename": "TypeError",
     "evalue": "'float' object is not callable",
     "output_type": "error",
     "traceback": [
      "\u001b[1;31m---------------------------------------------------------------------------\u001b[0m",
      "\u001b[1;31mTypeError\u001b[0m                                 Traceback (most recent call last)",
      "\u001b[1;32mc:\\rentswipe\\backend\\scrapers\\price.ipynb Cell 4\u001b[0m in \u001b[0;36m<cell line: 18>\u001b[1;34m()\u001b[0m\n\u001b[0;32m     <a href='vscode-notebook-cell:/c%3A/rentswipe/backend/scrapers/price.ipynb#W3sZmlsZQ%3D%3D?line=13'>14</a>\u001b[0m         \u001b[39mcontinue\u001b[39;00m\n\u001b[0;32m     <a href='vscode-notebook-cell:/c%3A/rentswipe/backend/scrapers/price.ipynb#W3sZmlsZQ%3D%3D?line=14'>15</a>\u001b[0m     prices_above_twok\u001b[39m.\u001b[39mappend(sorted_prices[i])\n\u001b[1;32m---> <a href='vscode-notebook-cell:/c%3A/rentswipe/backend/scrapers/price.ipynb#W3sZmlsZQ%3D%3D?line=17'>18</a>\u001b[0m avg_sum_one \u001b[39m=\u001b[39m \u001b[39msum\u001b[39;49m(prices_under_onek)\u001b[39m/\u001b[39m\u001b[39mlen\u001b[39m(prices_under_onek)\n\u001b[0;32m     <a href='vscode-notebook-cell:/c%3A/rentswipe/backend/scrapers/price.ipynb#W3sZmlsZQ%3D%3D?line=18'>19</a>\u001b[0m avg_two \u001b[39m=\u001b[39m \u001b[39msum\u001b[39m(prices_between_twok)\u001b[39m/\u001b[39m\u001b[39mlen\u001b[39m(prices_between_twok)\n\u001b[0;32m     <a href='vscode-notebook-cell:/c%3A/rentswipe/backend/scrapers/price.ipynb#W3sZmlsZQ%3D%3D?line=19'>20</a>\u001b[0m avg_three \u001b[39m=\u001b[39m \u001b[39msum\u001b[39m(prices_above_twok)\u001b[39m/\u001b[39m\u001b[39mlen\u001b[39m(prices_above_twok)\n",
      "\u001b[1;31mTypeError\u001b[0m: 'float' object is not callable"
     ]
    }
   ],
   "source": [
    "sorted_prices = sort_prices_ascending(prices_jaap)\n",
    "print(sorted_prices)\n",
    "\n",
    "prices_under_onek = []\n",
    "prices_between_twok = []\n",
    "prices_above_twok = []\n",
    "\n",
    "for i in range(len(sorted_prices)):\n",
    "    if sorted_prices[i] < 1000:\n",
    "        prices_under_onek.append(sorted_prices[i])\n",
    "        continue\n",
    "    elif sorted_prices[i] > 1000 and sorted_prices[i] < 2000:\n",
    "        prices_between_twok.append(sorted_prices[i])\n",
    "        continue\n",
    "    prices_above_twok.append(sorted_prices[i])\n",
    "\n",
    "print(sum(prices_under_onek))\n",
    "# avg_sum_one = sum(prices_under_onek)/len(prices_under_onek)\n",
    "# avg_two = sum(prices_between_twok)/len(prices_between_twok)\n",
    "# avg_three = sum(prices_above_twok)/len(prices_above_twok)\n",
    "\n",
    "# print(f\"Average price for properties under 1k: {avg_sum_one}\")\n",
    "# print(f\"Average price for properties under 2k: {avg_two}\")\n",
    "# print(f\"Average price for properties above 2k: {avg_three}\")"
   ]
  },
  {
   "cell_type": "code",
   "execution_count": null,
   "metadata": {},
   "outputs": [],
   "source": []
  }
 ],
 "metadata": {
  "kernelspec": {
   "display_name": "Python 3.9.6 64-bit",
   "language": "python",
   "name": "python3"
  },
  "language_info": {
   "codemirror_mode": {
    "name": "ipython",
    "version": 3
   },
   "file_extension": ".py",
   "mimetype": "text/x-python",
   "name": "python",
   "nbconvert_exporter": "python",
   "pygments_lexer": "ipython3",
   "version": "3.9.6"
  },
  "orig_nbformat": 4,
  "vscode": {
   "interpreter": {
    "hash": "57a96730a8c7a7628b21e07638c495f8159715ef5f407fa2a21f10ae5a33850b"
   }
  }
 },
 "nbformat": 4,
 "nbformat_minor": 2
}
